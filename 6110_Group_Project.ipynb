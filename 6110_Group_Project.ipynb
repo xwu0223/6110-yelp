{
 "cells": [
  {
   "cell_type": "code",
   "execution_count": 333,
   "metadata": {},
   "outputs": [],
   "source": [
    "import numpy as np\n",
    "import pandas as pd"
   ]
  },
  {
   "cell_type": "markdown",
   "metadata": {},
   "source": []
  },
  {
   "cell_type": "code",
   "execution_count": 356,
   "metadata": {},
   "outputs": [],
   "source": [
    "df = pd.read_json(\"yelp.json\")\n"
   ]
  },
  {
   "cell_type": "code",
   "execution_count": 357,
   "metadata": {},
   "outputs": [],
   "source": [
    "df.reset_index(inplace=True)"
   ]
  },
  {
   "cell_type": "code",
   "execution_count": 358,
   "metadata": {},
   "outputs": [],
   "source": [
    "attributes = df['attributes']"
   ]
  },
  {
   "cell_type": "code",
   "execution_count": 359,
   "metadata": {},
   "outputs": [],
   "source": [
    "attribute_value = []\n",
    "for i in attributes:\n",
    "    attribute_value.append(list(i.keys()))\n"
   ]
  },
  {
   "cell_type": "code",
   "execution_count": 360,
   "metadata": {},
   "outputs": [],
   "source": [
    "# obtain the disinct list of attribute value\n",
    "import itertools\n",
    "attribute_val = list(itertools.chain(*attribute_value))\n",
    "attribute_distinct_val = set(attribute_val)"
   ]
  },
  {
   "cell_type": "code",
   "execution_count": 361,
   "metadata": {},
   "outputs": [],
   "source": [
    "for i in attribute_distinct_val:\n",
    "    df[i]=np.nan"
   ]
  },
  {
   "cell_type": "code",
   "execution_count": 362,
   "metadata": {},
   "outputs": [
    {
     "data": {
      "text/plain": [
       "Index(['index', 'business_id', 'name', 'address', 'city', 'state',\n",
       "       'postal_code', 'latitude', 'longitude', 'stars', 'review_count',\n",
       "       'is_open', 'attributes', 'categories', 'hours', 'Ambience', 'HappyHour',\n",
       "       'ByAppointmentOnly', 'BusinessParking', 'DriveThru', 'Smoking',\n",
       "       'RestaurantsAttire', 'RestaurantsGoodForGroups', 'Alcohol',\n",
       "       'DogsAllowed', 'RestaurantsTableService', 'RestaurantsDelivery',\n",
       "       'WheelchairAccessible', 'BYOB', 'BusinessAcceptsBitcoin', 'WiFi',\n",
       "       'GoodForMeal', 'BYOBCorkage', 'OutdoorSeating', 'Corkage',\n",
       "       'BikeParking', 'Open24Hours', 'NoiseLevel', 'RestaurantsReservations',\n",
       "       'BusinessAcceptsCreditCards', 'RestaurantsTakeOut', 'GoodForKids',\n",
       "       'HasTV', 'RestaurantsPriceRange2', 'Caters'],\n",
       "      dtype='object')"
      ]
     },
     "execution_count": 362,
     "metadata": {},
     "output_type": "execute_result"
    }
   ],
   "source": [
    "df.columns"
   ]
  },
  {
   "cell_type": "code",
   "execution_count": 363,
   "metadata": {},
   "outputs": [
    {
     "name": "stderr",
     "output_type": "stream",
     "text": [
      "/var/folders/9s/zz7k8h2949d__gv0rmbn3yj80000gn/T/ipykernel_72433/659243494.py:6: SettingWithCopyWarning: \n",
      "A value is trying to be set on a copy of a slice from a DataFrame\n",
      "\n",
      "See the caveats in the documentation: https://pandas.pydata.org/pandas-docs/stable/user_guide/indexing.html#returning-a-view-versus-a-copy\n",
      "  df[j][i] = df['attributes'][i][j]\n",
      "/Users/xingkaiwu/miniforge3/envs/tf/lib/python3.8/site-packages/pandas/core/indexing.py:1732: SettingWithCopyWarning: \n",
      "A value is trying to be set on a copy of a slice from a DataFrame\n",
      "\n",
      "See the caveats in the documentation: https://pandas.pydata.org/pandas-docs/stable/user_guide/indexing.html#returning-a-view-versus-a-copy\n",
      "  self._setitem_single_block(indexer, value, name)\n"
     ]
    }
   ],
   "source": [
    "# mapping attribute values in the new columns\n",
    "#df.columns\n",
    "for i in range(len(df)):\n",
    "    for j in list(df['attributes'][i].keys()) :\n",
    "        if j in attribute_distinct_val and df['attributes'][i][j]!= 'None':\n",
    "            df[j][i] = df['attributes'][i][j]\n",
    "            "
   ]
  },
  {
   "cell_type": "code",
   "execution_count": 364,
   "metadata": {},
   "outputs": [],
   "source": [
    "df = df.dropna(subset=['Ambience','BusinessParking'])"
   ]
  },
  {
   "cell_type": "code",
   "execution_count": 365,
   "metadata": {},
   "outputs": [],
   "source": [
    "df = df.reset_index()"
   ]
  },
  {
   "cell_type": "code",
   "execution_count": 366,
   "metadata": {},
   "outputs": [],
   "source": [
    "def extract_dict(df_name, col_name):\n",
    "    import ast\n",
    "    col_val = df_name[col_name]\n",
    "    all_existing_val = []\n",
    "    for i in col_val:\n",
    "        if col_name != 'hours':\n",
    "            all_existing_val.append(list(ast.literal_eval(i).keys()))\n",
    "        else:\n",
    "            all_existing_val.append(list(i.keys()))\n",
    "            \n",
    "\n",
    "    all_existing_val = list(itertools.chain(*all_existing_val))\n",
    "    col_distinct_val = set(all_existing_val)\n",
    "    \n",
    "\n",
    "    for i in all_existing_val:\n",
    "\n",
    "        df_name[col_name+'_'+i]=np.nan\n",
    "\n",
    "        for j in range(len(df_name)):\n",
    "            \n",
    "            if (df_name[col_name][j] != np.nan) & (col_name == 'hours'):\n",
    "                for k in df_name[col_name][j].keys() :\n",
    "                    if k in col_distinct_val:\n",
    "                        df_name[col_name+'_'+i][j] = df_name[col_name][j][k]\n",
    "            elif (df_name[col_name][j] != np.nan) & (df_name[col_name][j] != None) & (col_name != 'hours'):\n",
    "                for k in list(ast.literal_eval(df_name[col_name][j]).keys()) :\n",
    "                    if k in col_distinct_val:\n",
    "                        df_name[col_name+'_'+i][j] = ast.literal_eval(df_name[col_name][j])[k]"
   ]
  },
  {
   "cell_type": "code",
   "execution_count": 367,
   "metadata": {},
   "outputs": [
    {
     "name": "stderr",
     "output_type": "stream",
     "text": [
      "/var/folders/9s/zz7k8h2949d__gv0rmbn3yj80000gn/T/ipykernel_72433/779905412.py:25: SettingWithCopyWarning: \n",
      "A value is trying to be set on a copy of a slice from a DataFrame\n",
      "\n",
      "See the caveats in the documentation: https://pandas.pydata.org/pandas-docs/stable/user_guide/indexing.html#returning-a-view-versus-a-copy\n",
      "  df_name[col_name+'_'+i][j] = df_name[col_name][j][k]\n",
      "/var/folders/9s/zz7k8h2949d__gv0rmbn3yj80000gn/T/ipykernel_72433/779905412.py:29: SettingWithCopyWarning: \n",
      "A value is trying to be set on a copy of a slice from a DataFrame\n",
      "\n",
      "See the caveats in the documentation: https://pandas.pydata.org/pandas-docs/stable/user_guide/indexing.html#returning-a-view-versus-a-copy\n",
      "  df_name[col_name+'_'+i][j] = ast.literal_eval(df_name[col_name][j])[k]\n"
     ]
    }
   ],
   "source": [
    "for i in ['hours','BusinessParking','Ambience']:\n",
    "    extract_dict(df, i)"
   ]
  },
  {
   "cell_type": "code",
   "execution_count": 368,
   "metadata": {},
   "outputs": [],
   "source": [
    "df.to_csv('temp.csv')"
   ]
  },
  {
   "cell_type": "code",
   "execution_count": 14,
   "metadata": {},
   "outputs": [],
   "source": [
    "options = ['Restaurants, Pizza','Pizza, Restaurants']\n",
    "df2 = df[df['categories'].isin(options)]"
   ]
  },
  {
   "cell_type": "code",
   "execution_count": 16,
   "metadata": {},
   "outputs": [
    {
     "data": {
      "text/html": [
       "<div>\n",
       "<style scoped>\n",
       "    .dataframe tbody tr th:only-of-type {\n",
       "        vertical-align: middle;\n",
       "    }\n",
       "\n",
       "    .dataframe tbody tr th {\n",
       "        vertical-align: top;\n",
       "    }\n",
       "\n",
       "    .dataframe thead th {\n",
       "        text-align: right;\n",
       "    }\n",
       "</style>\n",
       "<table border=\"1\" class=\"dataframe\">\n",
       "  <thead>\n",
       "    <tr style=\"text-align: right;\">\n",
       "      <th></th>\n",
       "      <th>business_id</th>\n",
       "      <th>name</th>\n",
       "      <th>address</th>\n",
       "      <th>city</th>\n",
       "      <th>state</th>\n",
       "      <th>postal_code</th>\n",
       "      <th>latitude</th>\n",
       "      <th>longitude</th>\n",
       "      <th>stars</th>\n",
       "      <th>review_count</th>\n",
       "      <th>is_open</th>\n",
       "      <th>attributes</th>\n",
       "      <th>categories</th>\n",
       "      <th>hours</th>\n",
       "    </tr>\n",
       "  </thead>\n",
       "  <tbody>\n",
       "    <tr>\n",
       "      <th>33</th>\n",
       "      <td>kV_Q1oqis8Qli8dUoGpTyQ</td>\n",
       "      <td>Ardmore Pizza</td>\n",
       "      <td>10 Rittenhouse Pl</td>\n",
       "      <td>Ardmore</td>\n",
       "      <td>PA</td>\n",
       "      <td>19003</td>\n",
       "      <td>40.006707</td>\n",
       "      <td>-75.289671</td>\n",
       "      <td>3.5</td>\n",
       "      <td>109</td>\n",
       "      <td>1</td>\n",
       "      <td>{'RestaurantsGoodForGroups': 'True', 'WiFi': '...</td>\n",
       "      <td>Pizza, Restaurants</td>\n",
       "      <td>{'Monday': '11:0-0:0', 'Tuesday': '11:0-0:0', ...</td>\n",
       "    </tr>\n",
       "    <tr>\n",
       "      <th>59</th>\n",
       "      <td>JgpnXv_0XhV3SfbfB50nxw</td>\n",
       "      <td>Joe's Pizza</td>\n",
       "      <td>2038 N Dale Mabry Hwy</td>\n",
       "      <td>Tampa</td>\n",
       "      <td>FL</td>\n",
       "      <td>33607</td>\n",
       "      <td>27.960514</td>\n",
       "      <td>-82.506127</td>\n",
       "      <td>4.0</td>\n",
       "      <td>35</td>\n",
       "      <td>0</td>\n",
       "      <td>{'BusinessParking': '{'garage': False, 'street...</td>\n",
       "      <td>Restaurants, Pizza</td>\n",
       "      <td>{'Monday': '11:0-22:0', 'Tuesday': '11:0-22:0'...</td>\n",
       "    </tr>\n",
       "    <tr>\n",
       "      <th>126</th>\n",
       "      <td>anLQj9AM8vjbcLSIE0iUgg</td>\n",
       "      <td>Papa Murphy's</td>\n",
       "      <td>7250 North La Cholla, Suite 186</td>\n",
       "      <td>Tucson</td>\n",
       "      <td>AZ</td>\n",
       "      <td>85741</td>\n",
       "      <td>32.338572</td>\n",
       "      <td>-111.010760</td>\n",
       "      <td>4.0</td>\n",
       "      <td>22</td>\n",
       "      <td>1</td>\n",
       "      <td>{'OutdoorSeating': 'False', 'Alcohol': 'u'none...</td>\n",
       "      <td>Pizza, Restaurants</td>\n",
       "      <td>None</td>\n",
       "    </tr>\n",
       "    <tr>\n",
       "      <th>191</th>\n",
       "      <td>59jkCUm4yHciKL1KW_1HJA</td>\n",
       "      <td>Roma Pizza &amp; Italian Eatery</td>\n",
       "      <td>1103 Main St</td>\n",
       "      <td>Warrington</td>\n",
       "      <td>PA</td>\n",
       "      <td>18976</td>\n",
       "      <td>40.229527</td>\n",
       "      <td>-75.131090</td>\n",
       "      <td>2.5</td>\n",
       "      <td>25</td>\n",
       "      <td>1</td>\n",
       "      <td>{'BikeParking': 'False', 'RestaurantsGoodForGr...</td>\n",
       "      <td>Pizza, Restaurants</td>\n",
       "      <td>{'Monday': '10:0-22:0', 'Tuesday': '10:0-22:0'...</td>\n",
       "    </tr>\n",
       "    <tr>\n",
       "      <th>373</th>\n",
       "      <td>uyc-S7lauYjzouYQ2TM76A</td>\n",
       "      <td>Papa John's Pizza</td>\n",
       "      <td>9817 W Florissant Ave</td>\n",
       "      <td>Saint Louis</td>\n",
       "      <td>MO</td>\n",
       "      <td>63136</td>\n",
       "      <td>38.746159</td>\n",
       "      <td>-90.279815</td>\n",
       "      <td>2.0</td>\n",
       "      <td>9</td>\n",
       "      <td>1</td>\n",
       "      <td>{'RestaurantsGoodForGroups': 'True', 'Ambience...</td>\n",
       "      <td>Pizza, Restaurants</td>\n",
       "      <td>None</td>\n",
       "    </tr>\n",
       "  </tbody>\n",
       "</table>\n",
       "</div>"
      ],
      "text/plain": [
       "                business_id                         name  \\\n",
       "33   kV_Q1oqis8Qli8dUoGpTyQ                Ardmore Pizza   \n",
       "59   JgpnXv_0XhV3SfbfB50nxw                  Joe's Pizza   \n",
       "126  anLQj9AM8vjbcLSIE0iUgg                Papa Murphy's   \n",
       "191  59jkCUm4yHciKL1KW_1HJA  Roma Pizza & Italian Eatery   \n",
       "373  uyc-S7lauYjzouYQ2TM76A            Papa John's Pizza   \n",
       "\n",
       "                             address         city state postal_code  \\\n",
       "33                 10 Rittenhouse Pl      Ardmore    PA       19003   \n",
       "59             2038 N Dale Mabry Hwy        Tampa    FL       33607   \n",
       "126  7250 North La Cholla, Suite 186       Tucson    AZ       85741   \n",
       "191                     1103 Main St   Warrington    PA       18976   \n",
       "373            9817 W Florissant Ave  Saint Louis    MO       63136   \n",
       "\n",
       "      latitude   longitude  stars  review_count  is_open  \\\n",
       "33   40.006707  -75.289671    3.5           109        1   \n",
       "59   27.960514  -82.506127    4.0            35        0   \n",
       "126  32.338572 -111.010760    4.0            22        1   \n",
       "191  40.229527  -75.131090    2.5            25        1   \n",
       "373  38.746159  -90.279815    2.0             9        1   \n",
       "\n",
       "                                            attributes          categories  \\\n",
       "33   {'RestaurantsGoodForGroups': 'True', 'WiFi': '...  Pizza, Restaurants   \n",
       "59   {'BusinessParking': '{'garage': False, 'street...  Restaurants, Pizza   \n",
       "126  {'OutdoorSeating': 'False', 'Alcohol': 'u'none...  Pizza, Restaurants   \n",
       "191  {'BikeParking': 'False', 'RestaurantsGoodForGr...  Pizza, Restaurants   \n",
       "373  {'RestaurantsGoodForGroups': 'True', 'Ambience...  Pizza, Restaurants   \n",
       "\n",
       "                                                 hours  \n",
       "33   {'Monday': '11:0-0:0', 'Tuesday': '11:0-0:0', ...  \n",
       "59   {'Monday': '11:0-22:0', 'Tuesday': '11:0-22:0'...  \n",
       "126                                               None  \n",
       "191  {'Monday': '10:0-22:0', 'Tuesday': '10:0-22:0'...  \n",
       "373                                               None  "
      ]
     },
     "execution_count": 16,
     "metadata": {},
     "output_type": "execute_result"
    }
   ],
   "source": [
    "df2.head()"
   ]
  },
  {
   "cell_type": "code",
   "execution_count": 12,
   "metadata": {},
   "outputs": [
    {
     "data": {
      "text/plain": [
       "4.0    31125\n",
       "4.5    27181\n",
       "3.5    26519\n",
       "3.0    18453\n",
       "5.0    16307\n",
       "2.5    14316\n",
       "2.0     9527\n",
       "1.5     4932\n",
       "1.0     1986\n",
       "Name: stars, dtype: int64"
      ]
     },
     "execution_count": 12,
     "metadata": {},
     "output_type": "execute_result"
    }
   ],
   "source": [
    "df['stars'].value_counts()"
   ]
  },
  {
   "cell_type": "code",
   "execution_count": 14,
   "metadata": {},
   "outputs": [
    {
     "data": {
      "text/plain": [
       "Beauty & Spas, Nail Salons                                                                                       1012\n",
       "Restaurants, Pizza                                                                                                935\n",
       "Nail Salons, Beauty & Spas                                                                                        934\n",
       "Pizza, Restaurants                                                                                                823\n",
       "Restaurants, Mexican                                                                                              728\n",
       "                                                                                                                 ... \n",
       "Dermatologists, Health & Medical, Cosmetic Surgeons, Doctors, Acne Treatment, Skin Care, Beauty & Spas              1\n",
       "Home Services, Home & Garden, Nurseries & Gardening, Hardware Stores, Shopping, Building Supplies, Appliances       1\n",
       "Food Trucks, Smokehouse, Restaurants, Food, Barbeque, Soul Food, Food Stands                                        1\n",
       "Assisted Living Facilities, Memory Care, Health & Medical, Hospice                                                  1\n",
       "Beauty & Spas, Permanent Makeup, Piercing, Tattoo                                                                   1\n",
       "Name: categories, Length: 83160, dtype: int64"
      ]
     },
     "execution_count": 14,
     "metadata": {},
     "output_type": "execute_result"
    }
   ],
   "source": [
    "df.categories.value_counts()"
   ]
  },
  {
   "cell_type": "code",
   "execution_count": null,
   "metadata": {},
   "outputs": [],
   "source": []
  }
 ],
 "metadata": {
  "interpreter": {
   "hash": "6131a6c53236501bcbd93c7d31595c707a36edab99a1bddee2d083c33bcb6550"
  },
  "kernelspec": {
   "display_name": "Python 3.8.12",
   "language": "python",
   "name": "python3"
  },
  "language_info": {
   "codemirror_mode": {
    "name": "ipython",
    "version": 3
   },
   "file_extension": ".py",
   "mimetype": "text/x-python",
   "name": "python",
   "nbconvert_exporter": "python",
   "pygments_lexer": "ipython3",
   "version": "3.8.12"
  },
  "orig_nbformat": 4
 },
 "nbformat": 4,
 "nbformat_minor": 2
}
